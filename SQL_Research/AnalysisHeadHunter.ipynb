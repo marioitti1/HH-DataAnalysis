{
 "cells": [
  {
   "cell_type": "markdown",
   "metadata": {},
   "source": [
    "# Подготовка к написанию запросов"
   ]
  },
  {
   "cell_type": "code",
   "execution_count": 84,
   "metadata": {},
   "outputs": [],
   "source": [
    "import warnings\n",
    "import pandas as pd\n",
    "import psycopg2"
   ]
  },
  {
   "cell_type": "markdown",
   "metadata": {},
   "source": [
    "### Чтение данных для соединения "
   ]
  },
  {
   "cell_type": "code",
   "execution_count": 85,
   "metadata": {},
   "outputs": [],
   "source": [
    "# Чтение данных из файла\n",
    "with open('connection.txt', 'r') as f:\n",
    "    lines = f.read().splitlines()\n",
    "\n",
    "connection_params = {}\n",
    "# Каждая строка заполняется на примере след. паттерна:\n",
    "# PORT = 8000\n",
    "for line in lines:\n",
    "    key, value = line.split(' = ', 1)\n",
    "    connection_params[key.lower()] = value"
   ]
  },
  {
   "cell_type": "markdown",
   "metadata": {},
   "source": [
    "### Уставновка соединений с базой данных"
   ]
  },
  {
   "cell_type": "code",
   "execution_count": 86,
   "metadata": {},
   "outputs": [],
   "source": [
    "engine = psycopg2.connect(\n",
    "   dbname=connection_params['dbname'],\n",
    "   user=connection_params['user'],\n",
    "   host=connection_params['host'],\n",
    "   password=connection_params['password'],\n",
    "   port=connection_params['port']\n",
    ")\n",
    "\n",
    "# Отключение сообщений\n",
    "warnings.filterwarnings(\"ignore\", category=UserWarning)"
   ]
  },
  {
   "cell_type": "markdown",
   "metadata": {},
   "source": [
    " # Предварительный анализ данных"
   ]
  },
  {
   "cell_type": "markdown",
   "metadata": {},
   "source": [
    "### Количество вакансий в базе"
   ]
  },
  {
   "cell_type": "code",
   "execution_count": 87,
   "metadata": {},
   "outputs": [
    {
     "name": "stdout",
     "output_type": "stream",
     "text": [
      "Количество вакансий в БД = 49197\n"
     ]
    }
   ],
   "source": [
    "query = f'''\n",
    "        select\n",
    "            count(*)\n",
    "        from\n",
    "            vacancies\n",
    "        '''\n",
    "amount_vac = pd.read_sql_query(query, engine)\n",
    "print(f'Количество вакансий в БД = {amount_vac['count'].iloc[0]}')"
   ]
  },
  {
   "cell_type": "markdown",
   "metadata": {},
   "source": [
    "### Количество работодателей"
   ]
  },
  {
   "cell_type": "code",
   "execution_count": 88,
   "metadata": {},
   "outputs": [
    {
     "name": "stdout",
     "output_type": "stream",
     "text": [
      "23501 работодателей представлены в БД\n"
     ]
    }
   ],
   "source": [
    "query = f'''\n",
    "        select\n",
    "            count(*) amount_emp\n",
    "        from\n",
    "            employers\n",
    "        '''\n",
    "amount_emp = pd.read_sql_query(query, engine)\n",
    "print(f'{amount_emp['amount_emp'].iloc[0]} работодателей представлены в БД')"
   ]
  },
  {
   "cell_type": "markdown",
   "metadata": {},
   "source": [
    "### Количество регионов"
   ]
  },
  {
   "cell_type": "code",
   "execution_count": 89,
   "metadata": {},
   "outputs": [
    {
     "name": "stdout",
     "output_type": "stream",
     "text": [
      "1362 региона в БД\n"
     ]
    }
   ],
   "source": [
    "query = f'''\n",
    "        select\n",
    "            count(*) amount_areas\n",
    "        from\n",
    "            areas\n",
    "        '''\n",
    "amount_areas = pd.read_sql_query(query, engine)\n",
    "print(f'{amount_areas['amount_areas'].iloc[0]} региона в БД')"
   ]
  },
  {
   "cell_type": "markdown",
   "metadata": {},
   "source": [
    "### Количество сфер деятельности"
   ]
  },
  {
   "cell_type": "code",
   "execution_count": 90,
   "metadata": {},
   "outputs": [
    {
     "name": "stdout",
     "output_type": "stream",
     "text": [
      "294 сферы деятельности\n"
     ]
    }
   ],
   "source": [
    "query = f'''\n",
    "        select\n",
    "            count(*) amount_industries\n",
    "        from\n",
    "            industries\n",
    "        '''\n",
    "amount_industries = pd.read_sql_query(query, engine)\n",
    "print(f'{amount_industries['amount_industries'].iloc[0]} сферы деятельности')"
   ]
  },
  {
   "cell_type": "markdown",
   "metadata": {},
   "source": [
    "# Детальный анализ вакансий"
   ]
  },
  {
   "cell_type": "markdown",
   "metadata": {},
   "source": [
    "Пятерка лидеров по количеству вакансий"
   ]
  },
  {
   "cell_type": "code",
   "execution_count": 91,
   "metadata": {},
   "outputs": [
    {
     "data": {
      "text/html": [
       "<div>\n",
       "<style scoped>\n",
       "    .dataframe tbody tr th:only-of-type {\n",
       "        vertical-align: middle;\n",
       "    }\n",
       "\n",
       "    .dataframe tbody tr th {\n",
       "        vertical-align: top;\n",
       "    }\n",
       "\n",
       "    .dataframe thead th {\n",
       "        text-align: right;\n",
       "    }\n",
       "</style>\n",
       "<table border=\"1\" class=\"dataframe\">\n",
       "  <thead>\n",
       "    <tr style=\"text-align: right;\">\n",
       "      <th></th>\n",
       "      <th>name</th>\n",
       "      <th>amount_vac</th>\n",
       "    </tr>\n",
       "  </thead>\n",
       "  <tbody>\n",
       "    <tr>\n",
       "      <th>0</th>\n",
       "      <td>Москва</td>\n",
       "      <td>5333</td>\n",
       "    </tr>\n",
       "    <tr>\n",
       "      <th>1</th>\n",
       "      <td>Санкт-Петербург</td>\n",
       "      <td>2851</td>\n",
       "    </tr>\n",
       "    <tr>\n",
       "      <th>2</th>\n",
       "      <td>Минск</td>\n",
       "      <td>2112</td>\n",
       "    </tr>\n",
       "    <tr>\n",
       "      <th>3</th>\n",
       "      <td>Новосибирск</td>\n",
       "      <td>2006</td>\n",
       "    </tr>\n",
       "    <tr>\n",
       "      <th>4</th>\n",
       "      <td>Алматы</td>\n",
       "      <td>1892</td>\n",
       "    </tr>\n",
       "  </tbody>\n",
       "</table>\n",
       "</div>"
      ],
      "text/plain": [
       "              name  amount_vac\n",
       "0           Москва        5333\n",
       "1  Санкт-Петербург        2851\n",
       "2            Минск        2112\n",
       "3      Новосибирск        2006\n",
       "4           Алматы        1892"
      ]
     },
     "execution_count": 91,
     "metadata": {},
     "output_type": "execute_result"
    }
   ],
   "source": [
    "query = f'''\n",
    "        select\n",
    "            a.name,\n",
    "            count(v.id) amount_vac\n",
    "        from\n",
    "            vacancies v\n",
    "            left join areas a on a.id = v.area_id\n",
    "        group by a.id\n",
    "        order by count(v.id) desc\n",
    "        limit 5\n",
    "        '''\n",
    "top_regions_by_vac = pd.read_sql_query(query, engine)\n",
    "top_regions_by_vac"
   ]
  },
  {
   "cell_type": "code",
   "execution_count": 92,
   "metadata": {},
   "outputs": [
    {
     "data": {
      "text/html": [
       "<div>\n",
       "<style scoped>\n",
       "    .dataframe tbody tr th:only-of-type {\n",
       "        vertical-align: middle;\n",
       "    }\n",
       "\n",
       "    .dataframe tbody tr th {\n",
       "        vertical-align: top;\n",
       "    }\n",
       "\n",
       "    .dataframe thead th {\n",
       "        text-align: right;\n",
       "    }\n",
       "</style>\n",
       "<table border=\"1\" class=\"dataframe\">\n",
       "  <thead>\n",
       "    <tr style=\"text-align: right;\">\n",
       "      <th></th>\n",
       "      <th>name</th>\n",
       "      <th>amount_vac</th>\n",
       "    </tr>\n",
       "  </thead>\n",
       "  <tbody>\n",
       "    <tr>\n",
       "      <th>0</th>\n",
       "      <td>Москва</td>\n",
       "      <td>5333.0</td>\n",
       "    </tr>\n",
       "    <tr>\n",
       "      <th>1</th>\n",
       "      <td>Санкт-Петербург</td>\n",
       "      <td>2851.0</td>\n",
       "    </tr>\n",
       "    <tr>\n",
       "      <th>2</th>\n",
       "      <td>Минск</td>\n",
       "      <td>2112.0</td>\n",
       "    </tr>\n",
       "    <tr>\n",
       "      <th>3</th>\n",
       "      <td>Новосибирск</td>\n",
       "      <td>2006.0</td>\n",
       "    </tr>\n",
       "    <tr>\n",
       "      <th>4</th>\n",
       "      <td>Алматы</td>\n",
       "      <td>1892.0</td>\n",
       "    </tr>\n",
       "    <tr>\n",
       "      <th>5</th>\n",
       "      <td>Total</td>\n",
       "      <td>14194.0</td>\n",
       "    </tr>\n",
       "  </tbody>\n",
       "</table>\n",
       "</div>"
      ],
      "text/plain": [
       "              name  amount_vac\n",
       "0           Москва      5333.0\n",
       "1  Санкт-Петербург      2851.0\n",
       "2            Минск      2112.0\n",
       "3      Новосибирск      2006.0\n",
       "4           Алматы      1892.0\n",
       "5            Total     14194.0"
      ]
     },
     "execution_count": 92,
     "metadata": {},
     "output_type": "execute_result"
    }
   ],
   "source": [
    "query = f'''\n",
    "        -- Создание временной таблицы для будущего объединения\n",
    "        with t as(\n",
    "            select\n",
    "                a.name,\n",
    "                count(v.id) amount_vac\n",
    "            from\n",
    "                vacancies v\n",
    "                left join areas a on a.id = v.area_id\n",
    "            group by a.id\n",
    "            order by count(v.id) desc\n",
    "            limit 5\n",
    "        )\n",
    "        select\n",
    "            *\n",
    "        from\n",
    "            t\n",
    "        -- Подсчет суммы вакансий и объединение\n",
    "        union all\n",
    "        select\n",
    "            'Total',\n",
    "            sum(amount_vac)\n",
    "        from t\n",
    "        '''\n",
    "top_regions_by_vac_sum = pd.read_sql_query(query, engine)\n",
    "top_regions_by_vac_sum"
   ]
  },
  {
   "cell_type": "markdown",
   "metadata": {},
   "source": [
    "Большинство вакансий отноятся к столицам (Новосибирск - столица Сибирского федерального округа).  \n",
    "А точнее ~1/3 всех вакансий приходится на эти города.  \n",
    "Следовательно, можно сделать вывод, что большинство вакансий формируются в крупных городах.  \n",
    "Этим объясняется желаение многих людей переезжать в данные регионы."
   ]
  },
  {
   "cell_type": "markdown",
   "metadata": {},
   "source": [
    "Количество резюме, где заполнено поле хотя бы с одной зарплатой"
   ]
  },
  {
   "cell_type": "code",
   "execution_count": 93,
   "metadata": {},
   "outputs": [
    {
     "name": "stdout",
     "output_type": "stream",
     "text": [
      "У 24073 вакансий заполнено хотя бы одно поле с зарплатой\n"
     ]
    }
   ],
   "source": [
    "query = f'''\n",
    "        select\n",
    "            count(*) cnt\n",
    "        from\n",
    "            vacancies\n",
    "        where\n",
    "            (salary_from is not null) or (salary_to is not null)\n",
    "        '''\n",
    "amount_vac_with_sal = pd.read_sql_query(query, engine)\n",
    "print(f'У {amount_vac_with_sal['cnt'].iloc[0]} вакансий заполнено хотя бы одно поле с зарплатой')"
   ]
  },
  {
   "cell_type": "markdown",
   "metadata": {},
   "source": [
    "Многие(половина) не хотят указывать уровень ЗП по некоторым возможным причинам:\n",
    "* Желание обсудить ЗП на собеседовании, чтобы \"не продешевить\";\n",
    "* Непонимание текущих ЗП, какие реалии на рынке;\n",
    "* Готовность к рассмотрению разных предложений, вне зависимости от уровня ЗП\n",
    "* и тд"
   ]
  },
  {
   "cell_type": "markdown",
   "metadata": {},
   "source": [
    "### Среднее значение для нижней и верхней границы зарплатной вилки"
   ]
  },
  {
   "cell_type": "code",
   "execution_count": 94,
   "metadata": {},
   "outputs": [
    {
     "name": "stdout",
     "output_type": "stream",
     "text": [
      "Средняя зарплата по нижней границе = 71065.0\n",
      "Средняя зарплата по верхней границе = 110537.0\n"
     ]
    }
   ],
   "source": [
    "query = f'''\n",
    "        select\n",
    "            round(avg(salary_from)) avg_salary_from,\n",
    "            round(avg(salary_to)) avg_salary_to\n",
    "        from\n",
    "            vacancies\n",
    "        '''\n",
    "avg_salary = pd.read_sql_query(query, engine)\n",
    "print(f'Средняя зарплата по нижней границе = {avg_salary['avg_salary_from'].iloc[0]}')\n",
    "print(f'Средняя зарплата по верхней границе = {avg_salary['avg_salary_to'].iloc[0]}')\n"
   ]
  },
  {
   "cell_type": "code",
   "execution_count": 95,
   "metadata": {},
   "outputs": [
    {
     "data": {
      "text/html": [
       "<div>\n",
       "<style scoped>\n",
       "    .dataframe tbody tr th:only-of-type {\n",
       "        vertical-align: middle;\n",
       "    }\n",
       "\n",
       "    .dataframe tbody tr th {\n",
       "        vertical-align: top;\n",
       "    }\n",
       "\n",
       "    .dataframe thead th {\n",
       "        text-align: right;\n",
       "    }\n",
       "</style>\n",
       "<table border=\"1\" class=\"dataframe\">\n",
       "  <thead>\n",
       "    <tr style=\"text-align: right;\">\n",
       "      <th></th>\n",
       "      <th>experience</th>\n",
       "      <th>avg_salary_from</th>\n",
       "      <th>avg_salary_to</th>\n",
       "    </tr>\n",
       "  </thead>\n",
       "  <tbody>\n",
       "    <tr>\n",
       "      <th>0</th>\n",
       "      <td>Более 6 лет</td>\n",
       "      <td>150156.0</td>\n",
       "      <td>197819.0</td>\n",
       "    </tr>\n",
       "    <tr>\n",
       "      <th>1</th>\n",
       "      <td>От 3 до 6 лет</td>\n",
       "      <td>112544.0</td>\n",
       "      <td>171974.0</td>\n",
       "    </tr>\n",
       "    <tr>\n",
       "      <th>2</th>\n",
       "      <td>От 1 года до 3 лет</td>\n",
       "      <td>64456.0</td>\n",
       "      <td>97436.0</td>\n",
       "    </tr>\n",
       "    <tr>\n",
       "      <th>3</th>\n",
       "      <td>Нет опыта</td>\n",
       "      <td>34699.0</td>\n",
       "      <td>56990.0</td>\n",
       "    </tr>\n",
       "  </tbody>\n",
       "</table>\n",
       "</div>"
      ],
      "text/plain": [
       "           experience  avg_salary_from  avg_salary_to\n",
       "0         Более 6 лет         150156.0       197819.0\n",
       "1       От 3 до 6 лет         112544.0       171974.0\n",
       "2  От 1 года до 3 лет          64456.0        97436.0\n",
       "3           Нет опыта          34699.0        56990.0"
      ]
     },
     "execution_count": 95,
     "metadata": {},
     "output_type": "execute_result"
    }
   ],
   "source": [
    "query = f'''\n",
    "        select\n",
    "            experience,\n",
    "            round(avg(salary_from)) avg_salary_from,\n",
    "            round(avg(salary_to)) avg_salary_to\n",
    "        from\n",
    "            vacancies\n",
    "        group by\n",
    "            experience\n",
    "        order by\n",
    "            round(avg(salary_from)) desc,\n",
    "            round(avg(salary_to)) desc\n",
    "        '''\n",
    "avg_salary_by_exp = pd.read_sql_query(query, engine)\n",
    "avg_salary_by_exp\n"
   ]
  },
  {
   "cell_type": "markdown",
   "metadata": {},
   "source": [
    "Показатель по общей средней ЗП неинформативен, так видно, что ЗП напрямую зависит от опыта работы.  \n",
    "То есть для стажера, который ищет работу, вилка - 71065 - 110537 будет неатуальна."
   ]
  },
  {
   "cell_type": "markdown",
   "metadata": {},
   "source": [
    "### Количество вакансий для каждого сочетания: рабочего графика + типа трудоустройства"
   ]
  },
  {
   "cell_type": "code",
   "execution_count": 96,
   "metadata": {},
   "outputs": [
    {
     "data": {
      "text/html": [
       "<div>\n",
       "<style scoped>\n",
       "    .dataframe tbody tr th:only-of-type {\n",
       "        vertical-align: middle;\n",
       "    }\n",
       "\n",
       "    .dataframe tbody tr th {\n",
       "        vertical-align: top;\n",
       "    }\n",
       "\n",
       "    .dataframe thead th {\n",
       "        text-align: right;\n",
       "    }\n",
       "</style>\n",
       "<table border=\"1\" class=\"dataframe\">\n",
       "  <thead>\n",
       "    <tr style=\"text-align: right;\">\n",
       "      <th></th>\n",
       "      <th>schedule</th>\n",
       "      <th>employment</th>\n",
       "      <th>amount</th>\n",
       "    </tr>\n",
       "  </thead>\n",
       "  <tbody>\n",
       "    <tr>\n",
       "      <th>0</th>\n",
       "      <td>Полный день</td>\n",
       "      <td>Полная занятость</td>\n",
       "      <td>35367</td>\n",
       "    </tr>\n",
       "    <tr>\n",
       "      <th>1</th>\n",
       "      <td>Удаленная работа</td>\n",
       "      <td>Полная занятость</td>\n",
       "      <td>7802</td>\n",
       "    </tr>\n",
       "    <tr>\n",
       "      <th>2</th>\n",
       "      <td>Гибкий график</td>\n",
       "      <td>Полная занятость</td>\n",
       "      <td>1593</td>\n",
       "    </tr>\n",
       "    <tr>\n",
       "      <th>3</th>\n",
       "      <td>Удаленная работа</td>\n",
       "      <td>Частичная занятость</td>\n",
       "      <td>1312</td>\n",
       "    </tr>\n",
       "    <tr>\n",
       "      <th>4</th>\n",
       "      <td>Сменный график</td>\n",
       "      <td>Полная занятость</td>\n",
       "      <td>940</td>\n",
       "    </tr>\n",
       "    <tr>\n",
       "      <th>5</th>\n",
       "      <td>Полный день</td>\n",
       "      <td>Стажировка</td>\n",
       "      <td>569</td>\n",
       "    </tr>\n",
       "    <tr>\n",
       "      <th>6</th>\n",
       "      <td>Вахтовый метод</td>\n",
       "      <td>Полная занятость</td>\n",
       "      <td>367</td>\n",
       "    </tr>\n",
       "    <tr>\n",
       "      <th>7</th>\n",
       "      <td>Полный день</td>\n",
       "      <td>Частичная занятость</td>\n",
       "      <td>347</td>\n",
       "    </tr>\n",
       "    <tr>\n",
       "      <th>8</th>\n",
       "      <td>Гибкий график</td>\n",
       "      <td>Частичная занятость</td>\n",
       "      <td>312</td>\n",
       "    </tr>\n",
       "    <tr>\n",
       "      <th>9</th>\n",
       "      <td>Полный день</td>\n",
       "      <td>Проектная работа</td>\n",
       "      <td>141</td>\n",
       "    </tr>\n",
       "    <tr>\n",
       "      <th>10</th>\n",
       "      <td>Удаленная работа</td>\n",
       "      <td>Проектная работа</td>\n",
       "      <td>133</td>\n",
       "    </tr>\n",
       "    <tr>\n",
       "      <th>11</th>\n",
       "      <td>Гибкий график</td>\n",
       "      <td>Стажировка</td>\n",
       "      <td>116</td>\n",
       "    </tr>\n",
       "    <tr>\n",
       "      <th>12</th>\n",
       "      <td>Сменный график</td>\n",
       "      <td>Частичная занятость</td>\n",
       "      <td>101</td>\n",
       "    </tr>\n",
       "    <tr>\n",
       "      <th>13</th>\n",
       "      <td>Удаленная работа</td>\n",
       "      <td>Стажировка</td>\n",
       "      <td>64</td>\n",
       "    </tr>\n",
       "    <tr>\n",
       "      <th>14</th>\n",
       "      <td>Гибкий график</td>\n",
       "      <td>Проектная работа</td>\n",
       "      <td>18</td>\n",
       "    </tr>\n",
       "    <tr>\n",
       "      <th>15</th>\n",
       "      <td>Сменный график</td>\n",
       "      <td>Стажировка</td>\n",
       "      <td>12</td>\n",
       "    </tr>\n",
       "    <tr>\n",
       "      <th>16</th>\n",
       "      <td>Вахтовый метод</td>\n",
       "      <td>Проектная работа</td>\n",
       "      <td>2</td>\n",
       "    </tr>\n",
       "    <tr>\n",
       "      <th>17</th>\n",
       "      <td>Сменный график</td>\n",
       "      <td>Проектная работа</td>\n",
       "      <td>1</td>\n",
       "    </tr>\n",
       "  </tbody>\n",
       "</table>\n",
       "</div>"
      ],
      "text/plain": [
       "            schedule           employment  amount\n",
       "0        Полный день     Полная занятость   35367\n",
       "1   Удаленная работа     Полная занятость    7802\n",
       "2      Гибкий график     Полная занятость    1593\n",
       "3   Удаленная работа  Частичная занятость    1312\n",
       "4     Сменный график     Полная занятость     940\n",
       "5        Полный день           Стажировка     569\n",
       "6     Вахтовый метод     Полная занятость     367\n",
       "7        Полный день  Частичная занятость     347\n",
       "8      Гибкий график  Частичная занятость     312\n",
       "9        Полный день     Проектная работа     141\n",
       "10  Удаленная работа     Проектная работа     133\n",
       "11     Гибкий график           Стажировка     116\n",
       "12    Сменный график  Частичная занятость     101\n",
       "13  Удаленная работа           Стажировка      64\n",
       "14     Гибкий график     Проектная работа      18\n",
       "15    Сменный график           Стажировка      12\n",
       "16    Вахтовый метод     Проектная работа       2\n",
       "17    Сменный график     Проектная работа       1"
      ]
     },
     "metadata": {},
     "output_type": "display_data"
    }
   ],
   "source": [
    "query = f'''\n",
    "        select\n",
    "            schedule,\n",
    "            employment,\n",
    "            count(id) amount\n",
    "        from\n",
    "            vacancies\n",
    "        group by\n",
    "            schedule,\n",
    "            employment\n",
    "        order by count(id) desc\n",
    "        '''\n",
    "sch_emp = pd.read_sql_query(query, engine)\n",
    "display(sch_emp)\n"
   ]
  },
  {
   "cell_type": "markdown",
   "metadata": {},
   "source": [
    "Наблюдается зависимость зависимости количество вакансий от вида трудоустройства, тогда как от типа работчего графика - не так.  \n",
    "Большинству требуется \"Полная занятость\", так как:\n",
    "* В основном такие сотрудники лучше соориентированы в делах компании\n",
    "* Многие задачи требуют постоянного присутствия работников на рабочем месте, что упрощает коммуникацию\n",
    "* и тд"
   ]
  },
  {
   "cell_type": "markdown",
   "metadata": {},
   "source": [
    "### Количество вакансий по требуемому опыту"
   ]
  },
  {
   "cell_type": "code",
   "execution_count": 97,
   "metadata": {},
   "outputs": [
    {
     "data": {
      "text/html": [
       "<div>\n",
       "<style scoped>\n",
       "    .dataframe tbody tr th:only-of-type {\n",
       "        vertical-align: middle;\n",
       "    }\n",
       "\n",
       "    .dataframe tbody tr th {\n",
       "        vertical-align: top;\n",
       "    }\n",
       "\n",
       "    .dataframe thead th {\n",
       "        text-align: right;\n",
       "    }\n",
       "</style>\n",
       "<table border=\"1\" class=\"dataframe\">\n",
       "  <thead>\n",
       "    <tr style=\"text-align: right;\">\n",
       "      <th></th>\n",
       "      <th>experience</th>\n",
       "      <th>amount_vac</th>\n",
       "    </tr>\n",
       "  </thead>\n",
       "  <tbody>\n",
       "    <tr>\n",
       "      <th>0</th>\n",
       "      <td>Более 6 лет</td>\n",
       "      <td>1337</td>\n",
       "    </tr>\n",
       "    <tr>\n",
       "      <th>1</th>\n",
       "      <td>Нет опыта</td>\n",
       "      <td>7197</td>\n",
       "    </tr>\n",
       "    <tr>\n",
       "      <th>2</th>\n",
       "      <td>От 3 до 6 лет</td>\n",
       "      <td>14511</td>\n",
       "    </tr>\n",
       "    <tr>\n",
       "      <th>3</th>\n",
       "      <td>От 1 года до 3 лет</td>\n",
       "      <td>26152</td>\n",
       "    </tr>\n",
       "  </tbody>\n",
       "</table>\n",
       "</div>"
      ],
      "text/plain": [
       "           experience  amount_vac\n",
       "0         Более 6 лет        1337\n",
       "1           Нет опыта        7197\n",
       "2       От 3 до 6 лет       14511\n",
       "3  От 1 года до 3 лет       26152"
      ]
     },
     "metadata": {},
     "output_type": "display_data"
    }
   ],
   "source": [
    "query = f'''\n",
    "        select\n",
    "            experience,\n",
    "            count(*) amount_vac\n",
    "        from\n",
    "            vacancies\n",
    "        group by\n",
    "            experience\n",
    "        order by count(*)\n",
    "        '''\n",
    "exp_vac = pd.read_sql_query(query, engine)\n",
    "display(exp_vac)\n"
   ]
  },
  {
   "cell_type": "markdown",
   "metadata": {},
   "source": [
    "Можно сделать выводы:\n",
    "* Самый востребованный опыт работы - 1-3 года, так как работник с таким опытом уже понимает, как работает крупная компания, есть понимание работы в команде, также определенный опыт в работе с реальными объектами (людьми). При этом уровень средней ЗП не так высок, следовательно, это самые \"ходовые\" сотрудники.\n",
    "* При этом в основном поиски работы ведуться с видом трудоустройства - Полная занятость.\n",
    "* Уровень средней ЗП в напрямую зависит от опыта работы."
   ]
  },
  {
   "cell_type": "markdown",
   "metadata": {},
   "source": [
    "# Анализ работодателей"
   ]
  },
  {
   "cell_type": "markdown",
   "metadata": {},
   "source": [
    "### Распредение работодателей по количеству вакансий"
   ]
  },
  {
   "cell_type": "code",
   "execution_count": 98,
   "metadata": {},
   "outputs": [
    {
     "data": {
      "text/html": [
       "<div>\n",
       "<style scoped>\n",
       "    .dataframe tbody tr th:only-of-type {\n",
       "        vertical-align: middle;\n",
       "    }\n",
       "\n",
       "    .dataframe tbody tr th {\n",
       "        vertical-align: top;\n",
       "    }\n",
       "\n",
       "    .dataframe thead th {\n",
       "        text-align: right;\n",
       "    }\n",
       "</style>\n",
       "<table border=\"1\" class=\"dataframe\">\n",
       "  <thead>\n",
       "    <tr style=\"text-align: right;\">\n",
       "      <th></th>\n",
       "      <th>name</th>\n",
       "      <th>amount</th>\n",
       "    </tr>\n",
       "  </thead>\n",
       "  <tbody>\n",
       "    <tr>\n",
       "      <th>0</th>\n",
       "      <td>Яндекс</td>\n",
       "      <td>1933</td>\n",
       "    </tr>\n",
       "    <tr>\n",
       "      <th>1</th>\n",
       "      <td>Ростелеком</td>\n",
       "      <td>491</td>\n",
       "    </tr>\n",
       "    <tr>\n",
       "      <th>2</th>\n",
       "      <td>Тинькофф</td>\n",
       "      <td>444</td>\n",
       "    </tr>\n",
       "    <tr>\n",
       "      <th>3</th>\n",
       "      <td>СБЕР</td>\n",
       "      <td>428</td>\n",
       "    </tr>\n",
       "    <tr>\n",
       "      <th>4</th>\n",
       "      <td>Газпром нефть</td>\n",
       "      <td>331</td>\n",
       "    </tr>\n",
       "  </tbody>\n",
       "</table>\n",
       "</div>"
      ],
      "text/plain": [
       "            name  amount\n",
       "0         Яндекс    1933\n",
       "1     Ростелеком     491\n",
       "2       Тинькофф     444\n",
       "3           СБЕР     428\n",
       "4  Газпром нефть     331"
      ]
     },
     "metadata": {},
     "output_type": "display_data"
    }
   ],
   "source": [
    "query = f'''\n",
    "        select\n",
    "            e.name,\n",
    "            count(v.id) amount\n",
    "        from\n",
    "            vacancies v\n",
    "            left join employers e on v.employer_id = e.id\n",
    "        group by\n",
    "            e.id\n",
    "        order by\n",
    "            count(v.id) desc\n",
    "        limit 5\n",
    "        '''\n",
    "amount_vac_by_emp = pd.read_sql_query(query, engine)\n",
    "display(amount_vac_by_emp)"
   ]
  },
  {
   "cell_type": "markdown",
   "metadata": {},
   "source": [
    "Как и ожидалось, в основном самые крупные игроки на рынке ищут большее количество людей."
   ]
  },
  {
   "cell_type": "markdown",
   "metadata": {},
   "source": [
    "### Среди регионов, в которых нет вакансий, поиск того, в котором наибольшее количество работодателей"
   ]
  },
  {
   "cell_type": "code",
   "execution_count": 99,
   "metadata": {},
   "outputs": [
    {
     "name": "stdout",
     "output_type": "stream",
     "text": [
      "Россия - это регион, в котором нет вакансий и наибольшее кол-во работодатей\n"
     ]
    }
   ],
   "source": [
    "query = f'''\n",
    "        select\n",
    "            a.name,\n",
    "            count(e.id) cnt\n",
    "        from\n",
    "            areas a\n",
    "            left join vacancies v on v.area_id = a.id\n",
    "            join employers e ON e.area = a.id\n",
    "        where v.id is null\n",
    "        group by a.name\n",
    "        order by cnt desc\n",
    "        limit 1\n",
    "        '''\n",
    "res_reg = pd.read_sql_query(query, engine)\n",
    "print(f'{res_reg['name'].iloc[0]} - это регион, в котором нет вакансий и наибольшее кол-во работодатей')"
   ]
  },
  {
   "cell_type": "markdown",
   "metadata": {},
   "source": [
    "Скорее всего ошибка заполнения анкеты, когда в качестве региона-работодателя указывается его \"глобальное\" местопложение, а ищут работы по регионам, указывая их в резюме."
   ]
  },
  {
   "cell_type": "markdown",
   "metadata": {},
   "source": [
    "### Подсчет количества регионов Для каждого работодателя, в которых он публикует свои вакансии.  \n",
    "Выберите максимальное значение из получившегося списка\n"
   ]
  },
  {
   "cell_type": "code",
   "execution_count": 100,
   "metadata": {},
   "outputs": [
    {
     "name": "stdout",
     "output_type": "stream",
     "text": [
      "Компания Яндекс публикует вакансии в 181 регионе\n"
     ]
    }
   ],
   "source": [
    "query = f'''\n",
    "        select\n",
    "            e.name,\n",
    "            count(distinct v.area_id) cnt\n",
    "        from\n",
    "            employers e\n",
    "            left join areas a on e.area = a.id\n",
    "            left join vacancies v on e.id = v.employer_id\n",
    "        group by e.name\n",
    "        order by cnt desc\n",
    "        limit 5\n",
    "        '''\n",
    "        \n",
    "emp_reg = pd.read_sql_query(query, engine)\n",
    "print(f'Компания {emp_reg['name'].iloc[0]} публикует вакансии в {emp_reg['cnt'].iloc[0]} регионе')"
   ]
  },
  {
   "cell_type": "markdown",
   "metadata": {},
   "source": [
    "### Запрос для подсчёта количества работодателей, у которых не указана сфера деятельности."
   ]
  },
  {
   "cell_type": "code",
   "execution_count": 101,
   "metadata": {},
   "outputs": [
    {
     "name": "stdout",
     "output_type": "stream",
     "text": [
      "У 8419 работодателей не указана сфера деятельности\n"
     ]
    }
   ],
   "source": [
    "query = f'''\n",
    "        select\n",
    "            count(*)\n",
    "        from\n",
    "            employers e\n",
    "            left join employers_industries e_i on e.id = e_i.employer_id\n",
    "        where\n",
    "            e_i.industry_id is null\n",
    "        '''\n",
    "        \n",
    "cnt_emp_without_industies = pd.read_sql_query(query, engine)\n",
    "print(f'У {cnt_emp_without_industies['count'].iloc[0]} работодателей не указана сфера деятельности')"
   ]
  },
  {
   "cell_type": "markdown",
   "metadata": {},
   "source": [
    "Данный показатель может быть связан с рядом причин:\n",
    "* Неправильное оформление профиля компании (ошибка)\n",
    "* Широкий спектр деятельности компании\n",
    "* Либо компания ищет сотрудников через рекрутинговые агенства  \n",
    "Это только ряд причин, могут быть и другие"
   ]
  },
  {
   "cell_type": "markdown",
   "metadata": {},
   "source": [
    "### Название компании, находящейся на третьем месте в алфавитном списке (по названию) компаний, у которых указано четыре сферы деятельности."
   ]
  },
  {
   "cell_type": "code",
   "execution_count": 102,
   "metadata": {},
   "outputs": [
    {
     "name": "stdout",
     "output_type": "stream",
     "text": [
      " Компания 2ГИС находится на 3 месте по алфавиту, у которой указано 4 типа деятельности\n"
     ]
    }
   ],
   "source": [
    "query = f'''\n",
    "        select\n",
    "            e.name\n",
    "            --count(e_i.industry_id) cnt\n",
    "        from\n",
    "            employers e\n",
    "            left join employers_industries e_i on e.id = e_i.employer_id\n",
    "        group by\n",
    "            e.id\n",
    "        having \n",
    "            count(e_i.industry_id) = 4\n",
    "        order by \n",
    "            e.name\n",
    "        offset 2 limit 1\n",
    "        '''\n",
    "        \n",
    "third_comp_with4_industries = pd.read_sql_query(query, engine)\n",
    "print(f' Компания {third_comp_with4_industries['name'].iloc[0]} находится на 3 месте по алфавиту, у которой указано 4 типа деятельности')"
   ]
  },
  {
   "cell_type": "markdown",
   "metadata": {},
   "source": [
    "### У какого количества работодателей в качестве сферы деятельности указана «Разработка программного обеспечения»."
   ]
  },
  {
   "cell_type": "code",
   "execution_count": 103,
   "metadata": {},
   "outputs": [
    {
     "name": "stdout",
     "output_type": "stream",
     "text": [
      "У 3553 работодателей в качестве сферы деятельности указана \"Разработка программного обеспечения\"\n"
     ]
    }
   ],
   "source": [
    "query = f'''\n",
    "        select\n",
    "            count(e_i.employer_id) cnt\n",
    "        from\n",
    "            employers_industries e_i\n",
    "            join industries i on i.id = e_i.industry_id\n",
    "        where i.name = 'Разработка программного обеспечения'\n",
    "        '''\n",
    "        \n",
    "amount_emp = pd.read_sql_query(query, engine)\n",
    "print(f'У {amount_emp['cnt'].iloc[0]} работодателей в качестве сферы деятельности указана \"Разработка программного обеспечения\"')"
   ]
  },
  {
   "cell_type": "markdown",
   "metadata": {},
   "source": [
    "### Кол-во вакансий для компании \"Яндекс\" в городах-миллионниках"
   ]
  },
  {
   "cell_type": "code",
   "execution_count": 104,
   "metadata": {},
   "outputs": [
    {
     "data": {
      "text/html": [
       "<div>\n",
       "<style scoped>\n",
       "    .dataframe tbody tr th:only-of-type {\n",
       "        vertical-align: middle;\n",
       "    }\n",
       "\n",
       "    .dataframe tbody tr th {\n",
       "        vertical-align: top;\n",
       "    }\n",
       "\n",
       "    .dataframe thead th {\n",
       "        text-align: right;\n",
       "    }\n",
       "</style>\n",
       "<table border=\"1\" class=\"dataframe\">\n",
       "  <thead>\n",
       "    <tr style=\"text-align: right;\">\n",
       "      <th></th>\n",
       "      <th>area_name</th>\n",
       "      <th>cnt</th>\n",
       "    </tr>\n",
       "  </thead>\n",
       "  <tbody>\n",
       "    <tr>\n",
       "      <th>0</th>\n",
       "      <td>Омск</td>\n",
       "      <td>21.0</td>\n",
       "    </tr>\n",
       "    <tr>\n",
       "      <th>1</th>\n",
       "      <td>Челябинск</td>\n",
       "      <td>22.0</td>\n",
       "    </tr>\n",
       "    <tr>\n",
       "      <th>2</th>\n",
       "      <td>Красноярск</td>\n",
       "      <td>23.0</td>\n",
       "    </tr>\n",
       "    <tr>\n",
       "      <th>3</th>\n",
       "      <td>Волгоград</td>\n",
       "      <td>24.0</td>\n",
       "    </tr>\n",
       "    <tr>\n",
       "      <th>4</th>\n",
       "      <td>Пермь</td>\n",
       "      <td>25.0</td>\n",
       "    </tr>\n",
       "    <tr>\n",
       "      <th>5</th>\n",
       "      <td>Казань</td>\n",
       "      <td>25.0</td>\n",
       "    </tr>\n",
       "    <tr>\n",
       "      <th>6</th>\n",
       "      <td>Ростов-на-Дону</td>\n",
       "      <td>25.0</td>\n",
       "    </tr>\n",
       "    <tr>\n",
       "      <th>7</th>\n",
       "      <td>Самара</td>\n",
       "      <td>26.0</td>\n",
       "    </tr>\n",
       "    <tr>\n",
       "      <th>8</th>\n",
       "      <td>Уфа</td>\n",
       "      <td>26.0</td>\n",
       "    </tr>\n",
       "    <tr>\n",
       "      <th>9</th>\n",
       "      <td>Краснодар</td>\n",
       "      <td>30.0</td>\n",
       "    </tr>\n",
       "    <tr>\n",
       "      <th>10</th>\n",
       "      <td>Воронеж</td>\n",
       "      <td>32.0</td>\n",
       "    </tr>\n",
       "    <tr>\n",
       "      <th>11</th>\n",
       "      <td>Новосибирск</td>\n",
       "      <td>35.0</td>\n",
       "    </tr>\n",
       "    <tr>\n",
       "      <th>12</th>\n",
       "      <td>Нижний Новгород</td>\n",
       "      <td>36.0</td>\n",
       "    </tr>\n",
       "    <tr>\n",
       "      <th>13</th>\n",
       "      <td>Екатеринбург</td>\n",
       "      <td>39.0</td>\n",
       "    </tr>\n",
       "    <tr>\n",
       "      <th>14</th>\n",
       "      <td>Санкт-Петербург</td>\n",
       "      <td>42.0</td>\n",
       "    </tr>\n",
       "    <tr>\n",
       "      <th>15</th>\n",
       "      <td>Москва</td>\n",
       "      <td>54.0</td>\n",
       "    </tr>\n",
       "    <tr>\n",
       "      <th>16</th>\n",
       "      <td>Total</td>\n",
       "      <td>485.0</td>\n",
       "    </tr>\n",
       "  </tbody>\n",
       "</table>\n",
       "</div>"
      ],
      "text/plain": [
       "          area_name    cnt\n",
       "0              Омск   21.0\n",
       "1         Челябинск   22.0\n",
       "2        Красноярск   23.0\n",
       "3         Волгоград   24.0\n",
       "4             Пермь   25.0\n",
       "5            Казань   25.0\n",
       "6    Ростов-на-Дону   25.0\n",
       "7            Самара   26.0\n",
       "8               Уфа   26.0\n",
       "9         Краснодар   30.0\n",
       "10          Воронеж   32.0\n",
       "11      Новосибирск   35.0\n",
       "12  Нижний Новгород   36.0\n",
       "13     Екатеринбург   39.0\n",
       "14  Санкт-Петербург   42.0\n",
       "15           Москва   54.0\n",
       "16            Total  485.0"
      ]
     },
     "execution_count": 104,
     "metadata": {},
     "output_type": "execute_result"
    }
   ],
   "source": [
    "query = f'''\n",
    "        -- Собираем данные о вакансиях в городах-миллионниках\n",
    "        with region_vacancies as(\n",
    "            select\n",
    "                a.name area_name,\n",
    "                v.employer_id\n",
    "            from\n",
    "                vacancies v\n",
    "                join areas a on v.area_id = a.id\n",
    "            where\n",
    "                a.name in('Москва', 'Санкт-Петербург', 'Новосибирск', 'Екатеринбург', 'Казань', 'Красноярск', 'Нижний Новгород', 'Челябинск', 'Уфа', 'Самара', 'Ростов-на-Дону', 'Краснодар', 'Омск', 'Воронеж', 'Пермь', 'Волгоград')\n",
    "        ),\n",
    "        -- Выполняем групировку по регионам и считаем кол-во вакансий\n",
    "        region_counts as(\n",
    "            select\n",
    "            r_v.area_name,\n",
    "            count(*) cnt\n",
    "            from\n",
    "                region_vacancies r_v\n",
    "                join employers e on e.id = r_v.employer_id\n",
    "            where\n",
    "                e.name = 'Яндекс'\n",
    "            group by\n",
    "                r_v.area_name\n",
    "        )\n",
    "        select\n",
    "            area_name,\n",
    "            cnt\n",
    "        from region_counts\n",
    "        -- Подсчет и объединение результатов\n",
    "        union all\n",
    "        select\n",
    "            'Total',\n",
    "            sum(cnt)\n",
    "        from region_counts\n",
    "        order by cnt\n",
    "        '''\n",
    "        \n",
    "yandex_regions = pd.read_sql_query(query, engine)\n",
    "yandex_regions"
   ]
  },
  {
   "cell_type": "markdown",
   "metadata": {},
   "source": [
    "Компания \"Яндекс\" - это крупнейшая компания, у которой Самое больше количество вакансий, регионов, в которых они нанимают сотрудников."
   ]
  },
  {
   "cell_type": "markdown",
   "metadata": {},
   "source": [
    "# Предметный анализ"
   ]
  },
  {
   "cell_type": "markdown",
   "metadata": {},
   "source": [
    "Сколько вакансий имеет отношение к данным"
   ]
  },
  {
   "cell_type": "code",
   "execution_count": 105,
   "metadata": {},
   "outputs": [
    {
     "name": "stdout",
     "output_type": "stream",
     "text": [
      "1771 вакансий имеет отношение к данным\n"
     ]
    }
   ],
   "source": [
    "query = '''\n",
    "    select\n",
    "        count(distinct id) cnt\n",
    "    from\n",
    "        vacancies\n",
    "    where\n",
    "        -- Поиск вакансии по заданному паттерну\n",
    "        lower(name) like any(array['%data%', '%данн%'])\n",
    "'''\n",
    "\n",
    "# Выполнение запроса\n",
    "data_vac = pd.read_sql_query(query, engine)\n",
    "\n",
    "# Правильный способ использования переменной в функции print\n",
    "print(f\"{data_vac['cnt'].iloc[0]} вакансий имеет отношение к данным\")"
   ]
  },
  {
   "cell_type": "code",
   "execution_count": 106,
   "metadata": {},
   "outputs": [
    {
     "name": "stdout",
     "output_type": "stream",
     "text": [
      "480 вакансий имеет отношение к данным\n"
     ]
    }
   ],
   "source": [
    "query = '''\n",
    "    select\n",
    "        count(distinct id) cnt\n",
    "    from\n",
    "        vacancies\n",
    "    where\n",
    "        -- Поиск вакансии по заданному паттерну\n",
    "        (lower(name) like any(array['%data scientist%', '%data science%', '%исследователь данных%', '%machine learning%', '%машинн%обучен%'])\n",
    "        or (name like '%ML%' and name not like '%HTML%' ))\n",
    "'''\n",
    "\n",
    "# Выполнение запроса\n",
    "ds_vac = pd.read_sql_query(query, engine)\n",
    "\n",
    "# Правильный способ использования переменной в функции print\n",
    "print(f\"{ds_vac['cnt'].iloc[0]} вакансий имеет отношение к данным\")"
   ]
  },
  {
   "cell_type": "markdown",
   "metadata": {},
   "source": [
    "Всего 1/4 от общего количества вакансий, относящихся к данным, связаны с DS.  \n"
   ]
  },
  {
   "cell_type": "markdown",
   "metadata": {},
   "source": [
    "### Количество подходящих вакансий для начинающего дата-сайентиста"
   ]
  },
  {
   "cell_type": "code",
   "execution_count": 107,
   "metadata": {},
   "outputs": [
    {
     "name": "stdout",
     "output_type": "stream",
     "text": [
      "Для начинающего дата-сайентиста подходит всего 51 вакансия\n"
     ]
    }
   ],
   "source": [
    "query = f'''\n",
    "        select\n",
    "            count(*) cnt\n",
    "        from\n",
    "            vacancies\n",
    "        where\n",
    "            -- Поиск одного из подходящих сочетаний для дата-сайентиста (без HTML)\n",
    "            (lower(name) like any(array['%data scientist%', '%data science%', '%исследователь данных%', '%machine learning%', '%машинн%обучен%'])\n",
    "            or (name like '%ML%' and name not like '%HTML%' ))\n",
    "            -- Отбор вакансий Junior\n",
    "            and ((lower(name) like '%junior%') or (experience = 'Нет опыта') or employment = 'Стажировка')\n",
    "        '''\n",
    "        \n",
    "jun_ds = pd.read_sql_query(query, engine)\n",
    "print(f'Для начинающего дата-сайентиста подходит всего {jun_ds['cnt'].iloc[0]} вакансия')"
   ]
  },
  {
   "cell_type": "markdown",
   "metadata": {},
   "source": [
    "Всего 10% от общего количества вакансий DS относятся к Junior сотрудникам.  \n",
    "Мало работодателей хотят тратить свое время и усилия на неопытных сотрудников, так как это может неокупиться, то есть есть вероятность, что сотрудник по истечении испытательного срока не подойдет."
   ]
  },
  {
   "cell_type": "markdown",
   "metadata": {},
   "source": [
    "### Количество вакансий для DS, с ключевыми навыками SQL или Posgres"
   ]
  },
  {
   "cell_type": "code",
   "execution_count": 108,
   "metadata": {},
   "outputs": [
    {
     "name": "stdout",
     "output_type": "stream",
     "text": [
      "201 Вакансий для DS, с ключевыми навыками SQL или Posgres\n"
     ]
    }
   ],
   "source": [
    "query = f'''\n",
    "        select\n",
    "            count(*) cnt\n",
    "        from\n",
    "            vacancies\n",
    "        where\n",
    "            -- Поиск одного из подходящих сочетаний для дата-сайентиста (без HTML)\n",
    "            (lower(name) like any(array['%data scientist%', '%data science%', '%исследователь данных%', '%machine learning%', '%машинн%обучен%'])\n",
    "            or (name like '%ML%' and name not like '%HTML%' ))\n",
    "            -- Ключевые навыки = SQL или Posgres\n",
    "            and (lower(key_skills) like any(array['%sql%', '%postgres%']))\n",
    "        '''\n",
    "        \n",
    "sql_ds = pd.read_sql_query(query, engine)\n",
    "print(f'{sql_ds['cnt'].iloc[0]} Вакансий для DS, с ключевыми навыками SQL или Posgres')"
   ]
  },
  {
   "cell_type": "markdown",
   "metadata": {},
   "source": [
    "### Насколько популярен Python в вакансиях с DS"
   ]
  },
  {
   "cell_type": "code",
   "execution_count": 109,
   "metadata": {},
   "outputs": [
    {
     "name": "stdout",
     "output_type": "stream",
     "text": [
      "351 Вакансии для DS, с требованием знания Python\n"
     ]
    }
   ],
   "source": [
    "query = f'''\n",
    "        select\n",
    "            count(*) cnt\n",
    "        from\n",
    "            vacancies\n",
    "        where\n",
    "            -- Поиск одного из подходящих сочетаний для дата-сайентиста (без HTML)\n",
    "            (lower(name) like any(array['%data scientist%', '%data science%', '%исследователь данных%', '%machine learning%', '%машинн%обучен%'])\n",
    "            or (name like '%ML%' and name not like '%HTML%' ))\n",
    "            -- Ключевые навыки заполнены\n",
    "            and lower(key_skills) like '%python%' \n",
    "        '''\n",
    "sql_ds = pd.read_sql_query(query, engine)\n",
    "print(f'{sql_ds['cnt'].iloc[0]} Вакансии для DS, с требованием знания Python')"
   ]
  },
  {
   "cell_type": "markdown",
   "metadata": {},
   "source": [
    "Половина вакансий требуется со знанием SQL, но практически все - со знанием Python.  \n",
    "Потому что Python - это один из самых распространенных языков для DS."
   ]
  },
  {
   "cell_type": "markdown",
   "metadata": {},
   "source": [
    "###  Среднее количество ключевых навыков, указываемых для вакансий с DS"
   ]
  },
  {
   "cell_type": "code",
   "execution_count": 110,
   "metadata": {},
   "outputs": [
    {
     "name": "stdout",
     "output_type": "stream",
     "text": [
      "Среднее число указываемых навыков = 6.41\n"
     ]
    }
   ],
   "source": [
    "query = f'''\n",
    "        select\n",
    "            count(key_skills) skill_count,\n",
    "            -- Вычитается изначальная длина строки и с удаленными символами табуляции\n",
    "            -- Прибавляется 1, чтобы учесть последний ключевой навык\n",
    "            -- Получается кол-во ключевых навыков, так как каждый отделен символом табуляции\n",
    "            round(avg(length(key_skills) - length(replace(key_skills, chr(9), '')) + 1), 2) avg_skills\n",
    "        from\n",
    "            vacancies\n",
    "        where\n",
    "            -- Поиск одного из подходящих сочетаний для дата-сайентиста (без HTML)\n",
    "            (lower(name) like any(array['%data scientist%', '%data science%', '%исследователь данных%', '%machine learning%', '%машинн%обучен%'])\n",
    "            or (name like '%ML%' and name not like '%HTML%' ))\n",
    "            -- Ключевые навыки заполнены\n",
    "            and key_skills is not null\n",
    "        '''\n",
    "        \n",
    "key_skills_ds = pd.read_sql_query(query, engine)\n",
    "print(f'Среднее число указываемых навыков = {key_skills_ds['avg_skills'].iloc[0]}')"
   ]
  },
  {
   "cell_type": "code",
   "execution_count": 111,
   "metadata": {},
   "outputs": [
    {
     "name": "stdout",
     "output_type": "stream",
     "text": [
      "Среднее число указываемых навыков = 6.37\n"
     ]
    }
   ],
   "source": [
    "query = f'''\n",
    "        select\n",
    "            count(key_skills) skill_count,\n",
    "            -- Вычитается изначальная длина строки и с удаленными символами табуляции\n",
    "            -- Прибавляется 1, чтобы учесть последний ключевой навык\n",
    "            -- Получается кол-во ключевых навыков, так как каждый отделен символом табуляции\n",
    "            round(avg(length(key_skills) - length(replace(key_skills, chr(9), '')) + 1), 2) avg_skills\n",
    "        from\n",
    "            vacancies\n",
    "        where\n",
    "            -- Ключевые навыки заполнены    \n",
    "            not (\n",
    "                lower(name) like any(array['%data scientist%', '%data science%', '%исследователь данных%', '%machine learning%', '%машинн%обучен%'])\n",
    "                or (name like '%ML%' and name not like '%HTML%')\n",
    "            )\n",
    "            and key_skills is not null\n",
    "        '''\n",
    "        \n",
    "key_skills_general = pd.read_sql_query(query, engine)\n",
    "print(f'Среднее число указываемых навыков = {key_skills_general['avg_skills'].iloc[0]}')"
   ]
  },
  {
   "cell_type": "markdown",
   "metadata": {},
   "source": [
    "В сравнении можно заметить, что разницы в среднем количестве указываемых ключевых навыков - нет.  \n",
    "Так что это неинформативный показатель, отличаются виды ключевых навыков, но не их количество"
   ]
  },
  {
   "cell_type": "code",
   "execution_count": 112,
   "metadata": {},
   "outputs": [
    {
     "data": {
      "text/html": [
       "<div>\n",
       "<style scoped>\n",
       "    .dataframe tbody tr th:only-of-type {\n",
       "        vertical-align: middle;\n",
       "    }\n",
       "\n",
       "    .dataframe tbody tr th {\n",
       "        vertical-align: top;\n",
       "    }\n",
       "\n",
       "    .dataframe thead th {\n",
       "        text-align: right;\n",
       "    }\n",
       "</style>\n",
       "<table border=\"1\" class=\"dataframe\">\n",
       "  <thead>\n",
       "    <tr style=\"text-align: right;\">\n",
       "      <th></th>\n",
       "      <th>experience</th>\n",
       "      <th>avg_salary</th>\n",
       "    </tr>\n",
       "  </thead>\n",
       "  <tbody>\n",
       "    <tr>\n",
       "      <th>0</th>\n",
       "      <td>Нет опыта</td>\n",
       "      <td>74643.0</td>\n",
       "    </tr>\n",
       "    <tr>\n",
       "      <th>1</th>\n",
       "      <td>От 1 года до 3 лет</td>\n",
       "      <td>139675.0</td>\n",
       "    </tr>\n",
       "    <tr>\n",
       "      <th>2</th>\n",
       "      <td>От 3 до 6 лет</td>\n",
       "      <td>243115.0</td>\n",
       "    </tr>\n",
       "  </tbody>\n",
       "</table>\n",
       "</div>"
      ],
      "text/plain": [
       "           experience  avg_salary\n",
       "0           Нет опыта     74643.0\n",
       "1  От 1 года до 3 лет    139675.0\n",
       "2       От 3 до 6 лет    243115.0"
      ]
     },
     "execution_count": 112,
     "metadata": {},
     "output_type": "execute_result"
    }
   ],
   "source": [
    "query = f'''\n",
    "        select\n",
    "            experience,\n",
    "            -- Расчет средней ЗП\n",
    "            round(avg(case\n",
    "                when (salary_from is not null) and (salary_to is not null) then (salary_to + salary_from ) / 2\n",
    "                when salary_from is not null then salary_from\n",
    "                else salary_to\n",
    "            end)) avg_salary\n",
    "        from\n",
    "            vacancies\n",
    "        where\n",
    "            -- Поиск одного из подходящих сочетаний для дата-сайентиста (без HTML)\n",
    "            (lower(name) like any(array['%data scientist%', '%data science%', '%исследователь данных%', '%machine learning%', '%машинн%обучен%'])\n",
    "            or (name like '%ML%' and name not like '%HTML%'))\n",
    "            -- Хотя бы одно из полей ЗП заполнено\n",
    "            and ((salary_from is not null) or (salary_to is not null) )\n",
    "        group by experience\n",
    "        '''\n",
    "        \n",
    "avg_salary_ds = pd.read_sql_query(query, engine)\n",
    "avg_salary_ds"
   ]
  },
  {
   "cell_type": "code",
   "execution_count": 113,
   "metadata": {},
   "outputs": [
    {
     "data": {
      "text/html": [
       "<div>\n",
       "<style scoped>\n",
       "    .dataframe tbody tr th:only-of-type {\n",
       "        vertical-align: middle;\n",
       "    }\n",
       "\n",
       "    .dataframe tbody tr th {\n",
       "        vertical-align: top;\n",
       "    }\n",
       "\n",
       "    .dataframe thead th {\n",
       "        text-align: right;\n",
       "    }\n",
       "</style>\n",
       "<table border=\"1\" class=\"dataframe\">\n",
       "  <thead>\n",
       "    <tr style=\"text-align: right;\">\n",
       "      <th></th>\n",
       "      <th>experience</th>\n",
       "      <th>avg_salary</th>\n",
       "    </tr>\n",
       "  </thead>\n",
       "  <tbody>\n",
       "    <tr>\n",
       "      <th>0</th>\n",
       "      <td>Нет опыта</td>\n",
       "      <td>40472.0</td>\n",
       "    </tr>\n",
       "    <tr>\n",
       "      <th>1</th>\n",
       "      <td>От 1 года до 3 лет</td>\n",
       "      <td>76541.0</td>\n",
       "    </tr>\n",
       "    <tr>\n",
       "      <th>2</th>\n",
       "      <td>От 3 до 6 лет</td>\n",
       "      <td>133211.0</td>\n",
       "    </tr>\n",
       "    <tr>\n",
       "      <th>3</th>\n",
       "      <td>Более 6 лет</td>\n",
       "      <td>166256.0</td>\n",
       "    </tr>\n",
       "  </tbody>\n",
       "</table>\n",
       "</div>"
      ],
      "text/plain": [
       "           experience  avg_salary\n",
       "0           Нет опыта     40472.0\n",
       "1  От 1 года до 3 лет     76541.0\n",
       "2       От 3 до 6 лет    133211.0\n",
       "3         Более 6 лет    166256.0"
      ]
     },
     "execution_count": 113,
     "metadata": {},
     "output_type": "execute_result"
    }
   ],
   "source": [
    "query = f'''\n",
    "        select\n",
    "            experience,\n",
    "            -- Расчет средней ЗП\n",
    "            round(avg(case\n",
    "                when (salary_from is not null) and (salary_to is not null) then (salary_to + salary_from ) / 2\n",
    "                when salary_from is not null then salary_from\n",
    "                else salary_to\n",
    "            end)) avg_salary\n",
    "        from\n",
    "            vacancies\n",
    "        where\n",
    "            -- Хотя бы одно из полей ЗП заполнено\n",
    "            (salary_from is not null) or (salary_to is not null)\n",
    "        group by experience\n",
    "        order by avg_salary \n",
    "        '''\n",
    "        \n",
    "avg_salary_general = pd.read_sql_query(query, engine)\n",
    "avg_salary_general"
   ]
  },
  {
   "cell_type": "markdown",
   "metadata": {},
   "source": [
    "Как видно, средний уровень ЗП у DS в 2 раза больше, вне зависимтости от опыта работы.  \n",
    "Это может быть связано с требованиями, необходимыми для работы в этом направлении, сложности професии и достаточно глубоких знаний в математике."
   ]
  },
  {
   "cell_type": "markdown",
   "metadata": {},
   "source": [
    "# Окончание основной части"
   ]
  },
  {
   "cell_type": "markdown",
   "metadata": {},
   "source": [
    "### Исследование по количеству вакансий по городам и сферам деятельности"
   ]
  },
  {
   "cell_type": "code",
   "execution_count": 114,
   "metadata": {},
   "outputs": [
    {
     "data": {
      "text/html": [
       "<div>\n",
       "<style scoped>\n",
       "    .dataframe tbody tr th:only-of-type {\n",
       "        vertical-align: middle;\n",
       "    }\n",
       "\n",
       "    .dataframe tbody tr th {\n",
       "        vertical-align: top;\n",
       "    }\n",
       "\n",
       "    .dataframe thead th {\n",
       "        text-align: right;\n",
       "    }\n",
       "</style>\n",
       "<table border=\"1\" class=\"dataframe\">\n",
       "  <thead>\n",
       "    <tr style=\"text-align: right;\">\n",
       "      <th></th>\n",
       "      <th>area_name</th>\n",
       "      <th>ind_name</th>\n",
       "    </tr>\n",
       "  </thead>\n",
       "  <tbody>\n",
       "    <tr>\n",
       "      <th>0</th>\n",
       "      <td>Москва</td>\n",
       "      <td>Разработка программного обеспечения</td>\n",
       "    </tr>\n",
       "    <tr>\n",
       "      <th>1</th>\n",
       "      <td>Москва</td>\n",
       "      <td>Системная интеграция,  автоматизации технологи...</td>\n",
       "    </tr>\n",
       "    <tr>\n",
       "      <th>2</th>\n",
       "      <td>Минск</td>\n",
       "      <td>Разработка программного обеспечения</td>\n",
       "    </tr>\n",
       "    <tr>\n",
       "      <th>3</th>\n",
       "      <td>Санкт-Петербург</td>\n",
       "      <td>Разработка программного обеспечения</td>\n",
       "    </tr>\n",
       "    <tr>\n",
       "      <th>4</th>\n",
       "      <td>Москва</td>\n",
       "      <td>Интернет-компания (поисковики, платежные систе...</td>\n",
       "    </tr>\n",
       "    <tr>\n",
       "      <th>5</th>\n",
       "      <td>Санкт-Петербург</td>\n",
       "      <td>Системная интеграция,  автоматизации технологи...</td>\n",
       "    </tr>\n",
       "    <tr>\n",
       "      <th>6</th>\n",
       "      <td>Москва</td>\n",
       "      <td>Банк</td>\n",
       "    </tr>\n",
       "    <tr>\n",
       "      <th>7</th>\n",
       "      <td>Новосибирск</td>\n",
       "      <td>Разработка программного обеспечения</td>\n",
       "    </tr>\n",
       "    <tr>\n",
       "      <th>8</th>\n",
       "      <td>Алматы</td>\n",
       "      <td>Системная интеграция,  автоматизации технологи...</td>\n",
       "    </tr>\n",
       "    <tr>\n",
       "      <th>9</th>\n",
       "      <td>Нижний Новгород</td>\n",
       "      <td>Разработка программного обеспечения</td>\n",
       "    </tr>\n",
       "    <tr>\n",
       "      <th>10</th>\n",
       "      <td>Минск</td>\n",
       "      <td>Системная интеграция,  автоматизации технологи...</td>\n",
       "    </tr>\n",
       "    <tr>\n",
       "      <th>11</th>\n",
       "      <td>Новосибирск</td>\n",
       "      <td>Системная интеграция,  автоматизации технологи...</td>\n",
       "    </tr>\n",
       "    <tr>\n",
       "      <th>12</th>\n",
       "      <td>Алматы</td>\n",
       "      <td>Разработка программного обеспечения</td>\n",
       "    </tr>\n",
       "    <tr>\n",
       "      <th>13</th>\n",
       "      <td>Нижний Новгород</td>\n",
       "      <td>Системная интеграция,  автоматизации технологи...</td>\n",
       "    </tr>\n",
       "    <tr>\n",
       "      <th>14</th>\n",
       "      <td>Санкт-Петербург</td>\n",
       "      <td>Интернет-компания (поисковики, платежные систе...</td>\n",
       "    </tr>\n",
       "    <tr>\n",
       "      <th>15</th>\n",
       "      <td>Казань</td>\n",
       "      <td>Разработка программного обеспечения</td>\n",
       "    </tr>\n",
       "    <tr>\n",
       "      <th>16</th>\n",
       "      <td>Екатеринбург</td>\n",
       "      <td>Разработка программного обеспечения</td>\n",
       "    </tr>\n",
       "    <tr>\n",
       "      <th>17</th>\n",
       "      <td>Екатеринбург</td>\n",
       "      <td>Системная интеграция,  автоматизации технологи...</td>\n",
       "    </tr>\n",
       "    <tr>\n",
       "      <th>18</th>\n",
       "      <td>Нур-Султан</td>\n",
       "      <td>Системная интеграция,  автоматизации технологи...</td>\n",
       "    </tr>\n",
       "    <tr>\n",
       "      <th>19</th>\n",
       "      <td>Самара</td>\n",
       "      <td>Системная интеграция,  автоматизации технологи...</td>\n",
       "    </tr>\n",
       "    <tr>\n",
       "      <th>20</th>\n",
       "      <td>Ростов-на-Дону</td>\n",
       "      <td>Разработка программного обеспечения</td>\n",
       "    </tr>\n",
       "    <tr>\n",
       "      <th>21</th>\n",
       "      <td>Нур-Султан</td>\n",
       "      <td>Разработка программного обеспечения</td>\n",
       "    </tr>\n",
       "    <tr>\n",
       "      <th>22</th>\n",
       "      <td>Самара</td>\n",
       "      <td>Разработка программного обеспечения</td>\n",
       "    </tr>\n",
       "    <tr>\n",
       "      <th>23</th>\n",
       "      <td>Казань</td>\n",
       "      <td>Системная интеграция,  автоматизации технологи...</td>\n",
       "    </tr>\n",
       "    <tr>\n",
       "      <th>24</th>\n",
       "      <td>Краснодар</td>\n",
       "      <td>Системная интеграция,  автоматизации технологи...</td>\n",
       "    </tr>\n",
       "    <tr>\n",
       "      <th>25</th>\n",
       "      <td>Ростов-на-Дону</td>\n",
       "      <td>Системная интеграция,  автоматизации технологи...</td>\n",
       "    </tr>\n",
       "    <tr>\n",
       "      <th>26</th>\n",
       "      <td>Воронеж</td>\n",
       "      <td>Разработка программного обеспечения</td>\n",
       "    </tr>\n",
       "    <tr>\n",
       "      <th>27</th>\n",
       "      <td>Тбилиси</td>\n",
       "      <td>Разработка программного обеспечения</td>\n",
       "    </tr>\n",
       "    <tr>\n",
       "      <th>28</th>\n",
       "      <td>Краснодар</td>\n",
       "      <td>Разработка программного обеспечения</td>\n",
       "    </tr>\n",
       "    <tr>\n",
       "      <th>29</th>\n",
       "      <td>Воронеж</td>\n",
       "      <td>Системная интеграция,  автоматизации технологи...</td>\n",
       "    </tr>\n",
       "    <tr>\n",
       "      <th>30</th>\n",
       "      <td>Пермь</td>\n",
       "      <td>Разработка программного обеспечения</td>\n",
       "    </tr>\n",
       "    <tr>\n",
       "      <th>31</th>\n",
       "      <td>Алматы</td>\n",
       "      <td>Интернет-компания (поисковики, платежные систе...</td>\n",
       "    </tr>\n",
       "    <tr>\n",
       "      <th>32</th>\n",
       "      <td>Москва</td>\n",
       "      <td>Кадровые агентства</td>\n",
       "    </tr>\n",
       "    <tr>\n",
       "      <th>33</th>\n",
       "      <td>Москва</td>\n",
       "      <td>Мобильная связь</td>\n",
       "    </tr>\n",
       "    <tr>\n",
       "      <th>34</th>\n",
       "      <td>Пермь</td>\n",
       "      <td>Системная интеграция,  автоматизации технологи...</td>\n",
       "    </tr>\n",
       "    <tr>\n",
       "      <th>35</th>\n",
       "      <td>Москва</td>\n",
       "      <td>Маркетинговые, рекламные, BTL, дизайнерские, E...</td>\n",
       "    </tr>\n",
       "    <tr>\n",
       "      <th>36</th>\n",
       "      <td>Москва</td>\n",
       "      <td>Интернет-магазин</td>\n",
       "    </tr>\n",
       "    <tr>\n",
       "      <th>37</th>\n",
       "      <td>Ташкент</td>\n",
       "      <td>Разработка программного обеспечения</td>\n",
       "    </tr>\n",
       "    <tr>\n",
       "      <th>38</th>\n",
       "      <td>Новосибирск</td>\n",
       "      <td>Интернет-компания (поисковики, платежные систе...</td>\n",
       "    </tr>\n",
       "    <tr>\n",
       "      <th>39</th>\n",
       "      <td>Нижний Новгород</td>\n",
       "      <td>Интернет-компания (поисковики, платежные систе...</td>\n",
       "    </tr>\n",
       "  </tbody>\n",
       "</table>\n",
       "</div>"
      ],
      "text/plain": [
       "          area_name                                           ind_name\n",
       "0            Москва                Разработка программного обеспечения\n",
       "1            Москва  Системная интеграция,  автоматизации технологи...\n",
       "2             Минск                Разработка программного обеспечения\n",
       "3   Санкт-Петербург                Разработка программного обеспечения\n",
       "4            Москва  Интернет-компания (поисковики, платежные систе...\n",
       "5   Санкт-Петербург  Системная интеграция,  автоматизации технологи...\n",
       "6            Москва                                               Банк\n",
       "7       Новосибирск                Разработка программного обеспечения\n",
       "8            Алматы  Системная интеграция,  автоматизации технологи...\n",
       "9   Нижний Новгород                Разработка программного обеспечения\n",
       "10            Минск  Системная интеграция,  автоматизации технологи...\n",
       "11      Новосибирск  Системная интеграция,  автоматизации технологи...\n",
       "12           Алматы                Разработка программного обеспечения\n",
       "13  Нижний Новгород  Системная интеграция,  автоматизации технологи...\n",
       "14  Санкт-Петербург  Интернет-компания (поисковики, платежные систе...\n",
       "15           Казань                Разработка программного обеспечения\n",
       "16     Екатеринбург                Разработка программного обеспечения\n",
       "17     Екатеринбург  Системная интеграция,  автоматизации технологи...\n",
       "18       Нур-Султан  Системная интеграция,  автоматизации технологи...\n",
       "19           Самара  Системная интеграция,  автоматизации технологи...\n",
       "20   Ростов-на-Дону                Разработка программного обеспечения\n",
       "21       Нур-Султан                Разработка программного обеспечения\n",
       "22           Самара                Разработка программного обеспечения\n",
       "23           Казань  Системная интеграция,  автоматизации технологи...\n",
       "24        Краснодар  Системная интеграция,  автоматизации технологи...\n",
       "25   Ростов-на-Дону  Системная интеграция,  автоматизации технологи...\n",
       "26          Воронеж                Разработка программного обеспечения\n",
       "27          Тбилиси                Разработка программного обеспечения\n",
       "28        Краснодар                Разработка программного обеспечения\n",
       "29          Воронеж  Системная интеграция,  автоматизации технологи...\n",
       "30            Пермь                Разработка программного обеспечения\n",
       "31           Алматы  Интернет-компания (поисковики, платежные систе...\n",
       "32           Москва                                 Кадровые агентства\n",
       "33           Москва                                    Мобильная связь\n",
       "34            Пермь  Системная интеграция,  автоматизации технологи...\n",
       "35           Москва  Маркетинговые, рекламные, BTL, дизайнерские, E...\n",
       "36           Москва                                   Интернет-магазин\n",
       "37          Ташкент                Разработка программного обеспечения\n",
       "38      Новосибирск  Интернет-компания (поисковики, платежные систе...\n",
       "39  Нижний Новгород  Интернет-компания (поисковики, платежные систе..."
      ]
     },
     "execution_count": 114,
     "metadata": {},
     "output_type": "execute_result"
    }
   ],
   "source": [
    "query = f'''\n",
    "        select\n",
    "            a.name area_name,\n",
    "            i.name ind_name\n",
    "        from\n",
    "            vacancies v\n",
    "            left join areas a on v.area_id = a.id\n",
    "            left join employers e on v.employer_id = e.id\n",
    "            left join employers_industries e_i on v.employer_id = e_i.employer_id\n",
    "            join industries i on e_i.industry_id = i.id\n",
    "        group by a.id, i.id\n",
    "        order by count(*) desc\n",
    "        limit 40\n",
    "        '''\n",
    "        \n",
    "area_industry = pd.read_sql_query(query, engine)\n",
    "area_industry"
   ]
  },
  {
   "cell_type": "markdown",
   "metadata": {},
   "source": [
    "90% самых популярных вакансий - это связанные с IT и в городах-миллиониках.  \n",
    "В последние годы направление IT сильно развивается и все больше людей хотят работать именно там."
   ]
  },
  {
   "cell_type": "markdown",
   "metadata": {},
   "source": [
    "### Распределение средних заработных плат DS по регионам и опыту работы"
   ]
  },
  {
   "cell_type": "code",
   "execution_count": 115,
   "metadata": {},
   "outputs": [
    {
     "data": {
      "text/html": [
       "<div>\n",
       "<style scoped>\n",
       "    .dataframe tbody tr th:only-of-type {\n",
       "        vertical-align: middle;\n",
       "    }\n",
       "\n",
       "    .dataframe tbody tr th {\n",
       "        vertical-align: top;\n",
       "    }\n",
       "\n",
       "    .dataframe thead th {\n",
       "        text-align: right;\n",
       "    }\n",
       "</style>\n",
       "<table border=\"1\" class=\"dataframe\">\n",
       "  <thead>\n",
       "    <tr style=\"text-align: right;\">\n",
       "      <th></th>\n",
       "      <th>experience</th>\n",
       "      <th>area_name</th>\n",
       "      <th>avg_salary</th>\n",
       "    </tr>\n",
       "  </thead>\n",
       "  <tbody>\n",
       "    <tr>\n",
       "      <th>0</th>\n",
       "      <td>От 3 до 6 лет</td>\n",
       "      <td>Кипр</td>\n",
       "      <td>300000.0</td>\n",
       "    </tr>\n",
       "    <tr>\n",
       "      <th>1</th>\n",
       "      <td>От 3 до 6 лет</td>\n",
       "      <td>Санкт-Петербург</td>\n",
       "      <td>300000.0</td>\n",
       "    </tr>\n",
       "    <tr>\n",
       "      <th>2</th>\n",
       "      <td>От 3 до 6 лет</td>\n",
       "      <td>Армения</td>\n",
       "      <td>268863.0</td>\n",
       "    </tr>\n",
       "    <tr>\n",
       "      <th>3</th>\n",
       "      <td>От 3 до 6 лет</td>\n",
       "      <td>Москва</td>\n",
       "      <td>263750.0</td>\n",
       "    </tr>\n",
       "    <tr>\n",
       "      <th>4</th>\n",
       "      <td>От 3 до 6 лет</td>\n",
       "      <td>Сербия</td>\n",
       "      <td>233794.0</td>\n",
       "    </tr>\n",
       "    <tr>\n",
       "      <th>5</th>\n",
       "      <td>От 3 до 6 лет</td>\n",
       "      <td>Черногория</td>\n",
       "      <td>233794.0</td>\n",
       "    </tr>\n",
       "    <tr>\n",
       "      <th>6</th>\n",
       "      <td>От 3 до 6 лет</td>\n",
       "      <td>Турция</td>\n",
       "      <td>233794.0</td>\n",
       "    </tr>\n",
       "    <tr>\n",
       "      <th>7</th>\n",
       "      <td>От 3 до 6 лет</td>\n",
       "      <td>Новосибирск</td>\n",
       "      <td>209500.0</td>\n",
       "    </tr>\n",
       "    <tr>\n",
       "      <th>8</th>\n",
       "      <td>От 3 до 6 лет</td>\n",
       "      <td>Белгород</td>\n",
       "      <td>200000.0</td>\n",
       "    </tr>\n",
       "    <tr>\n",
       "      <th>9</th>\n",
       "      <td>От 1 года до 3 лет</td>\n",
       "      <td>Санкт-Петербург</td>\n",
       "      <td>175173.0</td>\n",
       "    </tr>\n",
       "    <tr>\n",
       "      <th>10</th>\n",
       "      <td>От 1 года до 3 лет</td>\n",
       "      <td>Москва</td>\n",
       "      <td>169179.0</td>\n",
       "    </tr>\n",
       "    <tr>\n",
       "      <th>11</th>\n",
       "      <td>От 1 года до 3 лет</td>\n",
       "      <td>Екатеринбург</td>\n",
       "      <td>167500.0</td>\n",
       "    </tr>\n",
       "    <tr>\n",
       "      <th>12</th>\n",
       "      <td>От 3 до 6 лет</td>\n",
       "      <td>Рязань</td>\n",
       "      <td>152500.0</td>\n",
       "    </tr>\n",
       "    <tr>\n",
       "      <th>13</th>\n",
       "      <td>От 1 года до 3 лет</td>\n",
       "      <td>Королев</td>\n",
       "      <td>130000.0</td>\n",
       "    </tr>\n",
       "    <tr>\n",
       "      <th>14</th>\n",
       "      <td>От 1 года до 3 лет</td>\n",
       "      <td>Алматы</td>\n",
       "      <td>122047.0</td>\n",
       "    </tr>\n",
       "  </tbody>\n",
       "</table>\n",
       "</div>"
      ],
      "text/plain": [
       "            experience        area_name  avg_salary\n",
       "0        От 3 до 6 лет             Кипр    300000.0\n",
       "1        От 3 до 6 лет  Санкт-Петербург    300000.0\n",
       "2        От 3 до 6 лет          Армения    268863.0\n",
       "3        От 3 до 6 лет           Москва    263750.0\n",
       "4        От 3 до 6 лет           Сербия    233794.0\n",
       "5        От 3 до 6 лет       Черногория    233794.0\n",
       "6        От 3 до 6 лет           Турция    233794.0\n",
       "7        От 3 до 6 лет      Новосибирск    209500.0\n",
       "8        От 3 до 6 лет         Белгород    200000.0\n",
       "9   От 1 года до 3 лет  Санкт-Петербург    175173.0\n",
       "10  От 1 года до 3 лет           Москва    169179.0\n",
       "11  От 1 года до 3 лет     Екатеринбург    167500.0\n",
       "12       От 3 до 6 лет           Рязань    152500.0\n",
       "13  От 1 года до 3 лет          Королев    130000.0\n",
       "14  От 1 года до 3 лет           Алматы    122047.0"
      ]
     },
     "execution_count": 115,
     "metadata": {},
     "output_type": "execute_result"
    }
   ],
   "source": [
    "query = f'''\n",
    "        select\n",
    "            v.experience,\n",
    "            a.name area_name,\n",
    "            -- Расчет средней ЗП\n",
    "            round(avg(case\n",
    "                when (salary_from is not null) and (salary_to is not null) then (salary_to + salary_from ) / 2\n",
    "                when salary_from is not null then salary_from\n",
    "                else salary_to\n",
    "            end)) avg_salary\n",
    "        from\n",
    "            vacancies v\n",
    "            left join areas a on v.area_id = a.id\n",
    "        where\n",
    "            -- Поиск одного из подходящих сочетаний для дата-сайентиста (без HTML)\n",
    "            (lower(v.name) like any(array['%data scientist%', '%data science%', '%исследователь данных%', '%machine learning%', '%машинн%обучен%'])\n",
    "            or (v.name like '%ML%' and v.name not like '%HTML%'))\n",
    "            -- Хотя бы одно из полей ЗП заполнено\n",
    "            and ((salary_from is not null) or (salary_to is not null))\n",
    "        group by \n",
    "            v.experience,\n",
    "            a.id\n",
    "        order by avg_salary desc\n",
    "        limit 15\n",
    "        '''\n",
    "        \n",
    "avg_sal_by_exp_area = pd.read_sql_query(query, engine)\n",
    "avg_sal_by_exp_area"
   ]
  },
  {
   "cell_type": "markdown",
   "metadata": {},
   "source": [
    "Уровень средней заработной платы в основном зависит от опыта работы, как было сказано ранее.  \n",
    "Но также видно, что регион вакансии также имеет влияние на ЗП, правда меньшее.\n",
    "\n",
    "Связана данная зависимость скорее всего с тем, что в данное время люди с опытом могут переехать в другой город, на лучшее предложение, а не соглашаться на меньшее в своем регионе.  \n",
    "Поэтому работодатели стараются держать ЗП +- на одном уровне."
   ]
  },
  {
   "cell_type": "markdown",
   "metadata": {},
   "source": [
    "## Закрытие соединения"
   ]
  },
  {
   "cell_type": "code",
   "execution_count": 116,
   "metadata": {},
   "outputs": [],
   "source": [
    "engine.close()"
   ]
  }
 ],
 "metadata": {
  "kernelspec": {
   "display_name": ".venv",
   "language": "python",
   "name": "python3"
  },
  "language_info": {
   "codemirror_mode": {
    "name": "ipython",
    "version": 3
   },
   "file_extension": ".py",
   "mimetype": "text/x-python",
   "name": "python",
   "nbconvert_exporter": "python",
   "pygments_lexer": "ipython3",
   "version": "3.12.5"
  }
 },
 "nbformat": 4,
 "nbformat_minor": 2
}
